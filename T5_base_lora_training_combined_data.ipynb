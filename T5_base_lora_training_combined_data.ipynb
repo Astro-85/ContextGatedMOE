{
 "cells": [
  {
   "cell_type": "code",
   "execution_count": 1,
   "id": "b1fd393c",
   "metadata": {},
   "outputs": [],
   "source": [
    "import json\n",
    "import matplotlib.pyplot as plt\n",
    "import numpy as np\n",
    "import pandas as pd\n",
    "from tqdm.notebook import tqdm_notebook\n",
    "\n",
    "import torch\n",
    "import torch.nn as nn\n",
    "import torch.optim as optim\n",
    "from torch.utils.data import Dataset, DataLoader, RandomSampler\n",
    "\n",
    "import nltk\n",
    "import spacy\n",
    "import string\n",
    "import evaluate\n",
    "import transformers\n",
    "\n",
    "from sklearn.model_selection import train_test_split\n",
    "from transformers import T5ForConditionalGeneration, T5TokenizerFast\n",
    "\n",
    "import loralib as lora\n",
    "\n",
    "import warnings\n",
    "warnings.filterwarnings(\"ignore\")"
   ]
  },
  {
   "cell_type": "code",
   "execution_count": 2,
   "id": "e9fe46d2",
   "metadata": {},
   "outputs": [],
   "source": [
    "class QA_Dataset(Dataset):\n",
    "    '''\n",
    "    Follow the question answering input format of UnifiedQA: https://arxiv.org/pdf/2005.00700.pdf\n",
    "    '''\n",
    "    def __init__(self, tokenizer, dataframe, q_len, t_len):\n",
    "        self.tokenizer = tokenizer\n",
    "        self.q_len = q_len\n",
    "        self.t_len = t_len\n",
    "        self.data = dataframe\n",
    "        self.question = self.data['question']\n",
    "        self.choices = self.data['choices']\n",
    "        self.label = self.data['label']\n",
    "        \n",
    "    def __len__(self):\n",
    "        return len(self.question)\n",
    "    \n",
    "    def __getitem__(self, idx):\n",
    "        question = self.question[idx]\n",
    "        choices = self.choices[idx]\n",
    "        label = int(self.label[idx])\n",
    "        answer = choices[label]\n",
    "        \n",
    "        # Append choices to question following style of UnifiedQA\n",
    "        # question \\n (A) c1 (B) c2 . . .       \n",
    "        letters = ['(A)', '(B)', '(C)', '(D)', '(E)']\n",
    "        question = question + ' \\n'\n",
    "        for i, c in enumerate(choices):\n",
    "            question += f' {letters[i]} {c}'\n",
    "        question_for_tok =  question\n",
    "        answer_for_tok = answer\n",
    "        question_tokenized = self.tokenizer(question_for_tok, max_length=self.q_len, padding=\"max_length\",\n",
    "                                            truncation=True, pad_to_max_length=True, add_special_tokens=True)\n",
    "        answer_tokenized = self.tokenizer(answer_for_tok, max_length=self.t_len, padding=\"max_length\", \n",
    "                                          truncation=True, pad_to_max_length=True, add_special_tokens=True)\n",
    "    \n",
    "        return {\n",
    "            \"input_ids\": torch.tensor(question_tokenized[\"input_ids\"], dtype=torch.long),\n",
    "            \"attention_mask\": torch.tensor(question_tokenized[\"attention_mask\"], dtype=torch.long),\n",
    "            \"decoder_input_ids\": torch.tensor(answer_tokenized[\"input_ids\"], dtype=torch.long),\n",
    "            \"decoder_attention_mask\": torch.tensor(answer_tokenized[\"attention_mask\"], dtype=torch.long),\n",
    "            \"question\": question,\n",
    "            \"ref_answer\": answer,\n",
    "        }\n",
    "\n",
    "\n",
    "class Trainer:\n",
    "    def __init__(self, model, optimizer, tokenizer, \n",
    "                 train_loader, \n",
    "                 val_loader1, \n",
    "                 val_loader2, \n",
    "                 val_loader3, \n",
    "                 device='cuda'):\n",
    "        self.model = model\n",
    "        self.optimizer = optimizer\n",
    "        self.tokenizer = tokenizer\n",
    "        self.train_loader = train_loader\n",
    "        self.val_loader1 = val_loader1\n",
    "        self.val_loader2 = val_loader2\n",
    "        self.val_loader3 = val_loader3\n",
    "        self.device = device\n",
    "        self.bleu = evaluate.load(\"google_bleu\")\n",
    "\n",
    "    def train_epoch(self):\n",
    "        self.model = self.model.to(self.device)\n",
    "        self.model.train()\n",
    "        lora.mark_only_lora_as_trainable(self.model)\n",
    "\n",
    "        train_loss = 0\n",
    "        train_batch_count = 0\n",
    "        for batch in tqdm_notebook(self.train_loader, desc=\"Training batches\"):\n",
    "            input_ids = batch[\"input_ids\"].to(self.device)\n",
    "            attention_mask = batch[\"attention_mask\"].to(self.device)\n",
    "            labels = batch[\"decoder_input_ids\"].to(self.device)\n",
    "            decoder_attention_mask = batch[\"decoder_attention_mask\"].to(self.device)\n",
    "    \n",
    "            outputs = self.model(input_ids=input_ids,\n",
    "                                 attention_mask=attention_mask,\n",
    "                                 labels=labels,\n",
    "                                 decoder_attention_mask=decoder_attention_mask)\n",
    "    \n",
    "            self.optimizer.zero_grad()\n",
    "            outputs.loss.backward()\n",
    "            self.optimizer.step()\n",
    "            train_loss += outputs.loss.item()\n",
    "            train_batch_count += 1\n",
    "\n",
    "        return train_loss / train_batch_count\n",
    "\n",
    "    def validate_epoch(self, dataset_num):\n",
    "        self.model = self.model.to(self.device)\n",
    "        self.model.eval()\n",
    "        val_loss = 0\n",
    "        val_batch_count = 0\n",
    "        predicted_answers = []\n",
    "        ref_answers = []\n",
    "        correct_num = 0\n",
    "        total_num = 0\n",
    "\n",
    "        if dataset_num == 1:\n",
    "            val_loader = self.val_loader1\n",
    "        elif dataset_num == 2:\n",
    "            val_loader = self.val_loader2\n",
    "        elif dataset_num == 3:\n",
    "            val_loader = self.val_loader3\n",
    "        \n",
    "        for batch in tqdm_notebook(val_loader, desc=\"Validation batches\"):\n",
    "            input_ids = batch[\"input_ids\"].to(self.device)\n",
    "            attention_mask = batch[\"attention_mask\"].to(self.device)\n",
    "            labels = batch[\"decoder_input_ids\"].to(self.device)\n",
    "            decoder_attention_mask = batch[\"decoder_attention_mask\"].to(self.device)\n",
    "            \n",
    "            with torch.no_grad():\n",
    "                outputs = self.model(input_ids=input_ids,\n",
    "                                     attention_mask=attention_mask,\n",
    "                                     labels=labels,\n",
    "                                     decoder_attention_mask=decoder_attention_mask)\n",
    "                val_loss += outputs.loss.item()\n",
    "                val_batch_count += 1\n",
    "    \n",
    "            # Store val outputs and metrics\n",
    "            bs = outputs.logits.shape[0]\n",
    "            for b_idx in range(bs):\n",
    "                logits = outputs.logits[b_idx]\n",
    "                tokens = torch.argmax(logits, dim=1)\n",
    "                end_tok_idx = (tokens == 1).nonzero()\n",
    "    \n",
    "                if end_tok_idx.size(0) > 0:\n",
    "                    end_tok_idx = end_tok_idx[0].item()\n",
    "                    if end_tok_idx+1 < tokens.size(0):\n",
    "                        tokens[end_tok_idx+1:] = 0\n",
    "                \n",
    "                predicted_answer = self.tokenizer.decode(tokens, skip_special_tokens=True)\n",
    "                ref_answer = batch['ref_answer'][b_idx]\n",
    "    \n",
    "                predicted_answers.append(predicted_answer)\n",
    "                ref_answers.append(ref_answer)\n",
    "                if ref_answer in predicted_answer:\n",
    "                    correct_num += 1\n",
    "                total_num += 1\n",
    "        \n",
    "        # Finish calculating val metrics\n",
    "        val_acc = correct_num / total_num\n",
    "        bleu_score = self.bleu.compute(predictions=predicted_answers, references=ref_answers)['google_bleu']\n",
    "\n",
    "        return {'val_loss': val_loss/val_batch_count, 'val_acc': val_acc, 'bleu_score': bleu_score}\n",
    "\n",
    "\n",
    "class EarlyStopper:\n",
    "    def __init__(self, patience=1, min_delta=0):\n",
    "        self.patience = patience\n",
    "        self.min_delta = min_delta\n",
    "        self.counter = 0\n",
    "        self.min_validation_acc = -float('inf')\n",
    "\n",
    "    def early_stop(self, validation_acc):\n",
    "        if validation_acc > self.min_validation_acc + self.min_delta:\n",
    "            self.min_validation_acc = validation_acc\n",
    "            self.counter = 0\n",
    "        else:\n",
    "            self.counter += 1\n",
    "            if self.counter >= self.patience:\n",
    "                return True\n",
    "        return False\n",
    "\n",
    "def apply_lora(model, num_blocks=12, model_d=768, lora_r=16):\n",
    "    # Apply LoRA to all attention matrices in the transformer block: q,k,v,o\n",
    "    for i in range(num_blocks):\n",
    "        model.encoder.block[i].layer[0].SelfAttention.q = lora.Linear(model_d, model_d, r=lora_r, bias=False)\n",
    "        model.encoder.block[i].layer[0].SelfAttention.k = lora.Linear(model_d, model_d, r=lora_r, bias=False)\n",
    "        model.encoder.block[i].layer[0].SelfAttention.v = lora.Linear(model_d, model_d, r=lora_r, bias=False)\n",
    "        model.encoder.block[i].layer[0].SelfAttention.o = lora.Linear(model_d, model_d, r=lora_r, bias=False)\n",
    "        \n",
    "        model.decoder.block[i].layer[0].SelfAttention.q = lora.Linear(model_d, model_d, r=lora_r, bias=False)\n",
    "        model.decoder.block[i].layer[0].SelfAttention.k = lora.Linear(model_d, model_d, r=lora_r, bias=False)\n",
    "        model.decoder.block[i].layer[0].SelfAttention.v = lora.Linear(model_d, model_d, r=lora_r, bias=False)\n",
    "        model.decoder.block[i].layer[0].SelfAttention.o = lora.Linear(model_d, model_d, r=lora_r, bias=False)\n",
    "        \n",
    "        model.decoder.block[i].layer[1].EncDecAttention.q = lora.Linear(model_d, model_d, r=lora_r, bias=False)\n",
    "        model.decoder.block[i].layer[1].EncDecAttention.k = lora.Linear(model_d, model_d, r=lora_r, bias=False)\n",
    "        model.decoder.block[i].layer[1].EncDecAttention.v = lora.Linear(model_d, model_d, r=lora_r, bias=False)\n",
    "        model.decoder.block[i].layer[1].EncDecAttention.o = lora.Linear(model_d, model_d, r=lora_r, bias=False)"
   ]
  },
  {
   "cell_type": "code",
   "execution_count": 3,
   "id": "d6708244",
   "metadata": {},
   "outputs": [],
   "source": [
    "model = T5ForConditionalGeneration.from_pretrained(\"t5-base\", return_dict=True)\n",
    "use_lora = True\n",
    "lora_r = 16\n",
    "if use_lora:\n",
    "    apply_lora(model, lora_r=lora_r)\n",
    "    model.load_state_dict(torch.load('t5-base.pth'), strict=False)\n",
    "\n",
    "tokenizer = T5TokenizerFast.from_pretrained(\"t5-base\")\n",
    "optimizer = optim.AdamW(model.parameters(), lr=3e-3, eps=1e-8, weight_decay=0.0) # For lora, use 3e-3, otherwise 1e-4 learning rate\n",
    "q_len = 512   # Question Length\n",
    "t_len = 64    # Target Length\n",
    "train_batch_size = 16\n",
    "val_batch_size = 8\n",
    "device = 'cuda:0'\n",
    "num_epochs = 100"
   ]
  },
  {
   "cell_type": "code",
   "execution_count": 4,
   "id": "9d53f340",
   "metadata": {},
   "outputs": [],
   "source": [
    "# Loading the data\n",
    "commonsense_train_file = 'datasets/CommonsenseQA/commonsenseqa_mcq_train.json'\n",
    "commonsense_val_file = 'datasets/CommonsenseQA/commonsenseqa_mcq_val.json'\n",
    "medical_train_file = 'datasets/MedQA/medqa_mcq_train.json'\n",
    "medical_val_file = 'datasets/MedQA/medqa_mcq_val.json'\n",
    "science_train_file = 'datasets/ScienceQA/scienceqa_mcq_train.json'\n",
    "science_val_file = 'datasets/ScienceQA/scienceqa_mcq_val.json'\n",
    "\n",
    "with open(commonsense_train_file) as file:\n",
    "    commonsense_train_data = json.load(file)\n",
    "    \n",
    "with open(commonsense_val_file) as file:\n",
    "    commonsense_val_data = json.load(file)\n",
    "\n",
    "with open(medical_train_file) as file:\n",
    "    medical_train_data = json.load(file)\n",
    "    \n",
    "with open(medical_val_file) as file:\n",
    "    medical_val_data = json.load(file)\n",
    "\n",
    "with open(science_train_file) as file:\n",
    "    science_train_data = json.load(file)\n",
    "    \n",
    "with open(science_val_file) as file:\n",
    "    science_val_data = json.load(file)\n",
    "\n",
    "# Create Dataframes\n",
    "commonsense_train_data = pd.DataFrame(commonsense_train_data)[:256]\n",
    "commonsense_val_data = pd.DataFrame(commonsense_val_data)\n",
    "medical_train_data = pd.DataFrame(medical_train_data)[:256]\n",
    "medical_val_data = pd.DataFrame(medical_val_data)\n",
    "science_train_data = pd.DataFrame(science_train_data)[:256]\n",
    "science_val_data = pd.DataFrame(science_val_data)\n",
    "\n",
    "# Dataset\n",
    "commonsense_train_dataset = QA_Dataset(tokenizer, commonsense_train_data, q_len, t_len)\n",
    "commonsense_val_dataset = QA_Dataset(tokenizer, commonsense_val_data, q_len, t_len)\n",
    "medical_train_dataset = QA_Dataset(tokenizer, medical_train_data, q_len, t_len)\n",
    "medical_val_dataset = QA_Dataset(tokenizer, medical_val_data, q_len, t_len)\n",
    "science_train_dataset = QA_Dataset(tokenizer, science_train_data, q_len, t_len)\n",
    "science_val_dataset = QA_Dataset(tokenizer, science_val_data, q_len, t_len)\n",
    "combined_train_dataset = torch.utils.data.ConcatDataset([commonsense_train_dataset, medical_train_dataset, science_train_dataset])\n",
    "\n",
    "# Dataloader\n",
    "commonsense_train_loader = DataLoader(commonsense_train_dataset, batch_size=train_batch_size, shuffle=True)\n",
    "commonsense_val_loader = DataLoader(commonsense_val_dataset, batch_size=val_batch_size, shuffle=False)\n",
    "\n",
    "medical_train_loader = DataLoader(medical_train_dataset, batch_size=train_batch_size, shuffle=True)\n",
    "medical_val_loader = DataLoader(medical_val_dataset, batch_size=val_batch_size, shuffle=False)\n",
    "\n",
    "science_train_loader = DataLoader(science_train_dataset, batch_size=train_batch_size, shuffle=True)\n",
    "science_val_loader = DataLoader(science_val_dataset, batch_size=val_batch_size, shuffle=False)\n",
    "\n",
    "combined_train_loader = DataLoader(combined_train_dataset, batch_size=train_batch_size, shuffle=True)\n",
    "\n",
    "# Trainer\n",
    "trainer = Trainer(model, optimizer, tokenizer, \n",
    "                  combined_train_loader, \n",
    "                  commonsense_val_loader,\n",
    "                  medical_val_loader,\n",
    "                  science_val_loader,\n",
    "                  device=device)"
   ]
  },
  {
   "cell_type": "code",
   "execution_count": 5,
   "id": "2496cd9e-cbc1-4ff6-bca8-8204296ad06d",
   "metadata": {},
   "outputs": [
    {
     "data": {
      "application/vnd.jupyter.widget-view+json": {
       "model_id": "fba17afa95294c4689a8057b018c3f60",
       "version_major": 2,
       "version_minor": 0
      },
      "text/plain": [
       "Validation batches:   0%|          | 0/153 [00:00<?, ?it/s]"
      ]
     },
     "metadata": {},
     "output_type": "display_data"
    },
    {
     "data": {
      "application/vnd.jupyter.widget-view+json": {
       "model_id": "0fd56cab53be4a83b6f5d61cc9283c0a",
       "version_major": 2,
       "version_minor": 0
      },
      "text/plain": [
       "Validation batches:   0%|          | 0/159 [00:00<?, ?it/s]"
      ]
     },
     "metadata": {},
     "output_type": "display_data"
    },
    {
     "data": {
      "application/vnd.jupyter.widget-view+json": {
       "model_id": "1063d630f88f42f790320fb1408daadb",
       "version_major": 2,
       "version_minor": 0
      },
      "text/plain": [
       "Validation batches:   0%|          | 0/268 [00:00<?, ?it/s]"
      ]
     },
     "metadata": {},
     "output_type": "display_data"
    },
    {
     "name": "stdout",
     "output_type": "stream",
     "text": [
      "0/100 -> Validation Acc: 0.054 \tValidation Bleu: 0.003\n",
      "0/100 -> Validation Acc: 0.004 \tValidation Bleu: 0.082\n",
      "0/100 -> Validation Acc: 0.093 \tValidation Bleu: 0.111\n"
     ]
    },
    {
     "data": {
      "application/vnd.jupyter.widget-view+json": {
       "model_id": "ae356203dcdc42bd90d2c723fc0e30ca",
       "version_major": 2,
       "version_minor": 0
      },
      "text/plain": [
       "Training batches:   0%|          | 0/48 [00:00<?, ?it/s]"
      ]
     },
     "metadata": {},
     "output_type": "display_data"
    },
    {
     "data": {
      "application/vnd.jupyter.widget-view+json": {
       "model_id": "5d1a2639bfe641d1aa6196bdfef9753b",
       "version_major": 2,
       "version_minor": 0
      },
      "text/plain": [
       "Validation batches:   0%|          | 0/153 [00:00<?, ?it/s]"
      ]
     },
     "metadata": {},
     "output_type": "display_data"
    },
    {
     "data": {
      "application/vnd.jupyter.widget-view+json": {
       "model_id": "7a59726d774c4d2f9d659d37eecdf52c",
       "version_major": 2,
       "version_minor": 0
      },
      "text/plain": [
       "Validation batches:   0%|          | 0/159 [00:00<?, ?it/s]"
      ]
     },
     "metadata": {},
     "output_type": "display_data"
    },
    {
     "data": {
      "application/vnd.jupyter.widget-view+json": {
       "model_id": "da0c2d45af14493db587e0544e189694",
       "version_major": 2,
       "version_minor": 0
      },
      "text/plain": [
       "Validation batches:   0%|          | 0/268 [00:00<?, ?it/s]"
      ]
     },
     "metadata": {},
     "output_type": "display_data"
    },
    {
     "name": "stdout",
     "output_type": "stream",
     "text": [
      "1/100 -> Validation Acc: 0.037 \tValidation Bleu: 0.246\n",
      "1/100 -> Validation Acc: 0.024 \tValidation Bleu: 0.455\n",
      "1/100 -> Validation Acc: 0.069 \tValidation Bleu: 0.678\n",
      "Saving model...\n",
      "1/100 -> Train loss: 2.873419631893436 \tValidation loss: 0.22735098754626767 \tValidation Acc: 0.043 \tValidation Bleu: 0.460\n"
     ]
    },
    {
     "data": {
      "application/vnd.jupyter.widget-view+json": {
       "model_id": "b2a3bc8b602944928392b2663dd502f9",
       "version_major": 2,
       "version_minor": 0
      },
      "text/plain": [
       "Training batches:   0%|          | 0/48 [00:00<?, ?it/s]"
      ]
     },
     "metadata": {},
     "output_type": "display_data"
    },
    {
     "data": {
      "application/vnd.jupyter.widget-view+json": {
       "model_id": "beab9310596c44789e17560cde4ce298",
       "version_major": 2,
       "version_minor": 0
      },
      "text/plain": [
       "Validation batches:   0%|          | 0/153 [00:00<?, ?it/s]"
      ]
     },
     "metadata": {},
     "output_type": "display_data"
    },
    {
     "data": {
      "application/vnd.jupyter.widget-view+json": {
       "model_id": "541b2b07d4c14379b36633e3b4952e38",
       "version_major": 2,
       "version_minor": 0
      },
      "text/plain": [
       "Validation batches:   0%|          | 0/159 [00:00<?, ?it/s]"
      ]
     },
     "metadata": {},
     "output_type": "display_data"
    },
    {
     "data": {
      "application/vnd.jupyter.widget-view+json": {
       "model_id": "db1eaa293e8641a28e011c35bd92e623",
       "version_major": 2,
       "version_minor": 0
      },
      "text/plain": [
       "Validation batches:   0%|          | 0/268 [00:00<?, ?it/s]"
      ]
     },
     "metadata": {},
     "output_type": "display_data"
    },
    {
     "name": "stdout",
     "output_type": "stream",
     "text": [
      "2/100 -> Validation Acc: 0.273 \tValidation Bleu: 0.437\n",
      "2/100 -> Validation Acc: 0.190 \tValidation Bleu: 0.599\n",
      "2/100 -> Validation Acc: 0.416 \tValidation Bleu: 0.733\n",
      "Saving model...\n",
      "2/100 -> Train loss: 0.14651714987121522 \tValidation loss: 0.04526600818272355 \tValidation Acc: 0.293 \tValidation Bleu: 0.589\n"
     ]
    },
    {
     "data": {
      "application/vnd.jupyter.widget-view+json": {
       "model_id": "ce42231b8b5943ccb240f834be33b0dd",
       "version_major": 2,
       "version_minor": 0
      },
      "text/plain": [
       "Training batches:   0%|          | 0/48 [00:00<?, ?it/s]"
      ]
     },
     "metadata": {},
     "output_type": "display_data"
    },
    {
     "data": {
      "application/vnd.jupyter.widget-view+json": {
       "model_id": "10c55a6faf9145368c41429271813422",
       "version_major": 2,
       "version_minor": 0
      },
      "text/plain": [
       "Validation batches:   0%|          | 0/153 [00:00<?, ?it/s]"
      ]
     },
     "metadata": {},
     "output_type": "display_data"
    },
    {
     "data": {
      "application/vnd.jupyter.widget-view+json": {
       "model_id": "48f918f152584724920bcdc9e4a243cb",
       "version_major": 2,
       "version_minor": 0
      },
      "text/plain": [
       "Validation batches:   0%|          | 0/159 [00:00<?, ?it/s]"
      ]
     },
     "metadata": {},
     "output_type": "display_data"
    },
    {
     "data": {
      "application/vnd.jupyter.widget-view+json": {
       "model_id": "d8996b4da856472ebd130d29e315aac3",
       "version_major": 2,
       "version_minor": 0
      },
      "text/plain": [
       "Validation batches:   0%|          | 0/268 [00:00<?, ?it/s]"
      ]
     },
     "metadata": {},
     "output_type": "display_data"
    },
    {
     "name": "stdout",
     "output_type": "stream",
     "text": [
      "3/100 -> Validation Acc: 0.272 \tValidation Bleu: 0.440\n",
      "3/100 -> Validation Acc: 0.199 \tValidation Bleu: 0.662\n",
      "3/100 -> Validation Acc: 0.472 \tValidation Bleu: 0.818\n",
      "Saving model...\n",
      "3/100 -> Train loss: 0.06316140720931192 \tValidation loss: 0.03918512609883584 \tValidation Acc: 0.314 \tValidation Bleu: 0.640\n"
     ]
    },
    {
     "data": {
      "application/vnd.jupyter.widget-view+json": {
       "model_id": "c69d9732ae84466f84399295efbe5caa",
       "version_major": 2,
       "version_minor": 0
      },
      "text/plain": [
       "Training batches:   0%|          | 0/48 [00:00<?, ?it/s]"
      ]
     },
     "metadata": {},
     "output_type": "display_data"
    },
    {
     "data": {
      "application/vnd.jupyter.widget-view+json": {
       "model_id": "cf5a9c28301a4c36b87806e329a79961",
       "version_major": 2,
       "version_minor": 0
      },
      "text/plain": [
       "Validation batches:   0%|          | 0/153 [00:00<?, ?it/s]"
      ]
     },
     "metadata": {},
     "output_type": "display_data"
    },
    {
     "data": {
      "application/vnd.jupyter.widget-view+json": {
       "model_id": "4f71befdef564aebba9ebba86aa42b62",
       "version_major": 2,
       "version_minor": 0
      },
      "text/plain": [
       "Validation batches:   0%|          | 0/159 [00:00<?, ?it/s]"
      ]
     },
     "metadata": {},
     "output_type": "display_data"
    },
    {
     "data": {
      "application/vnd.jupyter.widget-view+json": {
       "model_id": "ade704fcf5a24d6f86db10c49a4c0946",
       "version_major": 2,
       "version_minor": 0
      },
      "text/plain": [
       "Validation batches:   0%|          | 0/268 [00:00<?, ?it/s]"
      ]
     },
     "metadata": {},
     "output_type": "display_data"
    },
    {
     "name": "stdout",
     "output_type": "stream",
     "text": [
      "4/100 -> Validation Acc: 0.265 \tValidation Bleu: 0.438\n",
      "4/100 -> Validation Acc: 0.197 \tValidation Bleu: 0.665\n",
      "4/100 -> Validation Acc: 0.504 \tValidation Bleu: 0.858\n",
      "Saving model...\n",
      "4/100 -> Train loss: 0.048982751982597016 \tValidation loss: 0.037080078579854285 \tValidation Acc: 0.322 \tValidation Bleu: 0.654\n"
     ]
    },
    {
     "data": {
      "application/vnd.jupyter.widget-view+json": {
       "model_id": "4d63f1859e454dc49a1cbade954fa16c",
       "version_major": 2,
       "version_minor": 0
      },
      "text/plain": [
       "Training batches:   0%|          | 0/48 [00:00<?, ?it/s]"
      ]
     },
     "metadata": {},
     "output_type": "display_data"
    },
    {
     "data": {
      "application/vnd.jupyter.widget-view+json": {
       "model_id": "09aca75229c7446ba23a38a401501eef",
       "version_major": 2,
       "version_minor": 0
      },
      "text/plain": [
       "Validation batches:   0%|          | 0/153 [00:00<?, ?it/s]"
      ]
     },
     "metadata": {},
     "output_type": "display_data"
    },
    {
     "data": {
      "application/vnd.jupyter.widget-view+json": {
       "model_id": "9133e04abed945a689417d8a69d80f47",
       "version_major": 2,
       "version_minor": 0
      },
      "text/plain": [
       "Validation batches:   0%|          | 0/159 [00:00<?, ?it/s]"
      ]
     },
     "metadata": {},
     "output_type": "display_data"
    },
    {
     "data": {
      "application/vnd.jupyter.widget-view+json": {
       "model_id": "97ec6b76eea14f5a8adbd3c9134f19d4",
       "version_major": 2,
       "version_minor": 0
      },
      "text/plain": [
       "Validation batches:   0%|          | 0/268 [00:00<?, ?it/s]"
      ]
     },
     "metadata": {},
     "output_type": "display_data"
    },
    {
     "name": "stdout",
     "output_type": "stream",
     "text": [
      "5/100 -> Validation Acc: 0.270 \tValidation Bleu: 0.448\n",
      "5/100 -> Validation Acc: 0.194 \tValidation Bleu: 0.670\n",
      "5/100 -> Validation Acc: 0.509 \tValidation Bleu: 0.869\n",
      "Saving model...\n",
      "5/100 -> Train loss: 0.04578633338678628 \tValidation loss: 0.03624834646861452 \tValidation Acc: 0.325 \tValidation Bleu: 0.662\n"
     ]
    },
    {
     "data": {
      "application/vnd.jupyter.widget-view+json": {
       "model_id": "91791d8049734d74bbce723f0297f347",
       "version_major": 2,
       "version_minor": 0
      },
      "text/plain": [
       "Training batches:   0%|          | 0/48 [00:00<?, ?it/s]"
      ]
     },
     "metadata": {},
     "output_type": "display_data"
    },
    {
     "data": {
      "application/vnd.jupyter.widget-view+json": {
       "model_id": "be25f05be943490897e88b11186d50f6",
       "version_major": 2,
       "version_minor": 0
      },
      "text/plain": [
       "Validation batches:   0%|          | 0/153 [00:00<?, ?it/s]"
      ]
     },
     "metadata": {},
     "output_type": "display_data"
    },
    {
     "data": {
      "application/vnd.jupyter.widget-view+json": {
       "model_id": "55f783f2db304c0586cba23dfe3f36c8",
       "version_major": 2,
       "version_minor": 0
      },
      "text/plain": [
       "Validation batches:   0%|          | 0/159 [00:00<?, ?it/s]"
      ]
     },
     "metadata": {},
     "output_type": "display_data"
    },
    {
     "data": {
      "application/vnd.jupyter.widget-view+json": {
       "model_id": "2c6509601e8d438f9d8c0f805c20b51f",
       "version_major": 2,
       "version_minor": 0
      },
      "text/plain": [
       "Validation batches:   0%|          | 0/268 [00:00<?, ?it/s]"
      ]
     },
     "metadata": {},
     "output_type": "display_data"
    },
    {
     "name": "stdout",
     "output_type": "stream",
     "text": [
      "6/100 -> Validation Acc: 0.275 \tValidation Bleu: 0.447\n",
      "6/100 -> Validation Acc: 0.197 \tValidation Bleu: 0.678\n",
      "6/100 -> Validation Acc: 0.510 \tValidation Bleu: 0.865\n",
      "Saving model...\n",
      "6/100 -> Train loss: 0.041164281273571156 \tValidation loss: 0.03632412072179692 \tValidation Acc: 0.328 \tValidation Bleu: 0.663\n"
     ]
    },
    {
     "data": {
      "application/vnd.jupyter.widget-view+json": {
       "model_id": "ff22d01fb66640099108a8406d68dbdc",
       "version_major": 2,
       "version_minor": 0
      },
      "text/plain": [
       "Training batches:   0%|          | 0/48 [00:00<?, ?it/s]"
      ]
     },
     "metadata": {},
     "output_type": "display_data"
    },
    {
     "data": {
      "application/vnd.jupyter.widget-view+json": {
       "model_id": "93fd5ce9e43a42f2ae0c34fd421d0f87",
       "version_major": 2,
       "version_minor": 0
      },
      "text/plain": [
       "Validation batches:   0%|          | 0/153 [00:00<?, ?it/s]"
      ]
     },
     "metadata": {},
     "output_type": "display_data"
    },
    {
     "data": {
      "application/vnd.jupyter.widget-view+json": {
       "model_id": "8b1dcc40e916434aa13f0d14c044c9bd",
       "version_major": 2,
       "version_minor": 0
      },
      "text/plain": [
       "Validation batches:   0%|          | 0/159 [00:00<?, ?it/s]"
      ]
     },
     "metadata": {},
     "output_type": "display_data"
    },
    {
     "data": {
      "application/vnd.jupyter.widget-view+json": {
       "model_id": "768907b11ca747d48630d373e45ab7e1",
       "version_major": 2,
       "version_minor": 0
      },
      "text/plain": [
       "Validation batches:   0%|          | 0/268 [00:00<?, ?it/s]"
      ]
     },
     "metadata": {},
     "output_type": "display_data"
    },
    {
     "name": "stdout",
     "output_type": "stream",
     "text": [
      "7/100 -> Validation Acc: 0.268 \tValidation Bleu: 0.439\n",
      "7/100 -> Validation Acc: 0.204 \tValidation Bleu: 0.683\n",
      "7/100 -> Validation Acc: 0.511 \tValidation Bleu: 0.882\n",
      "Saving model...\n",
      "7/100 -> Train loss: 0.03886799289224049 \tValidation loss: 0.035324038505530925 \tValidation Acc: 0.327 \tValidation Bleu: 0.668\n"
     ]
    },
    {
     "data": {
      "application/vnd.jupyter.widget-view+json": {
       "model_id": "6f7ffbdf9ac6489faa730feba1bcbbf0",
       "version_major": 2,
       "version_minor": 0
      },
      "text/plain": [
       "Training batches:   0%|          | 0/48 [00:00<?, ?it/s]"
      ]
     },
     "metadata": {},
     "output_type": "display_data"
    },
    {
     "data": {
      "application/vnd.jupyter.widget-view+json": {
       "model_id": "78d1f57d46474431afccd8a86b435976",
       "version_major": 2,
       "version_minor": 0
      },
      "text/plain": [
       "Validation batches:   0%|          | 0/153 [00:00<?, ?it/s]"
      ]
     },
     "metadata": {},
     "output_type": "display_data"
    },
    {
     "data": {
      "application/vnd.jupyter.widget-view+json": {
       "model_id": "25f97cf723d94881b9fc95f5f9c01e76",
       "version_major": 2,
       "version_minor": 0
      },
      "text/plain": [
       "Validation batches:   0%|          | 0/159 [00:00<?, ?it/s]"
      ]
     },
     "metadata": {},
     "output_type": "display_data"
    },
    {
     "data": {
      "application/vnd.jupyter.widget-view+json": {
       "model_id": "3268950273ba4fe7b2fcd3357333ec17",
       "version_major": 2,
       "version_minor": 0
      },
      "text/plain": [
       "Validation batches:   0%|          | 0/268 [00:00<?, ?it/s]"
      ]
     },
     "metadata": {},
     "output_type": "display_data"
    },
    {
     "name": "stdout",
     "output_type": "stream",
     "text": [
      "8/100 -> Validation Acc: 0.276 \tValidation Bleu: 0.443\n",
      "8/100 -> Validation Acc: 0.208 \tValidation Bleu: 0.681\n",
      "8/100 -> Validation Acc: 0.519 \tValidation Bleu: 0.884\n",
      "Saving model...\n",
      "8/100 -> Train loss: 0.03552251122891903 \tValidation loss: 0.03584271560789006 \tValidation Acc: 0.334 \tValidation Bleu: 0.669\n"
     ]
    },
    {
     "data": {
      "application/vnd.jupyter.widget-view+json": {
       "model_id": "e55413eae959481c822de34d4b3b1775",
       "version_major": 2,
       "version_minor": 0
      },
      "text/plain": [
       "Training batches:   0%|          | 0/48 [00:00<?, ?it/s]"
      ]
     },
     "metadata": {},
     "output_type": "display_data"
    },
    {
     "data": {
      "application/vnd.jupyter.widget-view+json": {
       "model_id": "abfa79a16a0b43fc8af4d3a753a0df39",
       "version_major": 2,
       "version_minor": 0
      },
      "text/plain": [
       "Validation batches:   0%|          | 0/153 [00:00<?, ?it/s]"
      ]
     },
     "metadata": {},
     "output_type": "display_data"
    },
    {
     "data": {
      "application/vnd.jupyter.widget-view+json": {
       "model_id": "e04051632ddb4921a325275b699d4804",
       "version_major": 2,
       "version_minor": 0
      },
      "text/plain": [
       "Validation batches:   0%|          | 0/159 [00:00<?, ?it/s]"
      ]
     },
     "metadata": {},
     "output_type": "display_data"
    },
    {
     "data": {
      "application/vnd.jupyter.widget-view+json": {
       "model_id": "e62077bd777e4485ac9c97107a090910",
       "version_major": 2,
       "version_minor": 0
      },
      "text/plain": [
       "Validation batches:   0%|          | 0/268 [00:00<?, ?it/s]"
      ]
     },
     "metadata": {},
     "output_type": "display_data"
    },
    {
     "name": "stdout",
     "output_type": "stream",
     "text": [
      "9/100 -> Validation Acc: 0.269 \tValidation Bleu: 0.439\n",
      "9/100 -> Validation Acc: 0.208 \tValidation Bleu: 0.685\n",
      "9/100 -> Validation Acc: 0.529 \tValidation Bleu: 0.885\n",
      "Saving model...\n",
      "9/100 -> Train loss: 0.03216498193796724 \tValidation loss: 0.03679481343336426 \tValidation Acc: 0.335 \tValidation Bleu: 0.669\n"
     ]
    },
    {
     "data": {
      "application/vnd.jupyter.widget-view+json": {
       "model_id": "9ce2790af17040d1a8df7a2f36c3351f",
       "version_major": 2,
       "version_minor": 0
      },
      "text/plain": [
       "Training batches:   0%|          | 0/48 [00:00<?, ?it/s]"
      ]
     },
     "metadata": {},
     "output_type": "display_data"
    },
    {
     "data": {
      "application/vnd.jupyter.widget-view+json": {
       "model_id": "8694e627a57241cebf760b546ebcc284",
       "version_major": 2,
       "version_minor": 0
      },
      "text/plain": [
       "Validation batches:   0%|          | 0/153 [00:00<?, ?it/s]"
      ]
     },
     "metadata": {},
     "output_type": "display_data"
    },
    {
     "data": {
      "application/vnd.jupyter.widget-view+json": {
       "model_id": "a41e5678c12c41439cd1c6534d1b9cc6",
       "version_major": 2,
       "version_minor": 0
      },
      "text/plain": [
       "Validation batches:   0%|          | 0/159 [00:00<?, ?it/s]"
      ]
     },
     "metadata": {},
     "output_type": "display_data"
    },
    {
     "data": {
      "application/vnd.jupyter.widget-view+json": {
       "model_id": "10340b85e5d342c69d2aebf250d9a5c7",
       "version_major": 2,
       "version_minor": 0
      },
      "text/plain": [
       "Validation batches:   0%|          | 0/268 [00:00<?, ?it/s]"
      ]
     },
     "metadata": {},
     "output_type": "display_data"
    },
    {
     "name": "stdout",
     "output_type": "stream",
     "text": [
      "10/100 -> Validation Acc: 0.276 \tValidation Bleu: 0.442\n",
      "10/100 -> Validation Acc: 0.204 \tValidation Bleu: 0.691\n",
      "10/100 -> Validation Acc: 0.539 \tValidation Bleu: 0.891\n",
      "Saving model...\n",
      "10/100 -> Train loss: 0.030888583976775408 \tValidation loss: 0.0353155946599893 \tValidation Acc: 0.339 \tValidation Bleu: 0.675\n"
     ]
    },
    {
     "data": {
      "application/vnd.jupyter.widget-view+json": {
       "model_id": "7b694b29670e4595a82e9f129ebf23fd",
       "version_major": 2,
       "version_minor": 0
      },
      "text/plain": [
       "Training batches:   0%|          | 0/48 [00:00<?, ?it/s]"
      ]
     },
     "metadata": {},
     "output_type": "display_data"
    },
    {
     "data": {
      "application/vnd.jupyter.widget-view+json": {
       "model_id": "f777f8b8ee374c09a62f02099446c024",
       "version_major": 2,
       "version_minor": 0
      },
      "text/plain": [
       "Validation batches:   0%|          | 0/153 [00:00<?, ?it/s]"
      ]
     },
     "metadata": {},
     "output_type": "display_data"
    },
    {
     "data": {
      "application/vnd.jupyter.widget-view+json": {
       "model_id": "abda29952bea40ba84cc40bc7f06a63b",
       "version_major": 2,
       "version_minor": 0
      },
      "text/plain": [
       "Validation batches:   0%|          | 0/159 [00:00<?, ?it/s]"
      ]
     },
     "metadata": {},
     "output_type": "display_data"
    },
    {
     "data": {
      "application/vnd.jupyter.widget-view+json": {
       "model_id": "305d76654d654156a0d801815d8cdbba",
       "version_major": 2,
       "version_minor": 0
      },
      "text/plain": [
       "Validation batches:   0%|          | 0/268 [00:00<?, ?it/s]"
      ]
     },
     "metadata": {},
     "output_type": "display_data"
    },
    {
     "name": "stdout",
     "output_type": "stream",
     "text": [
      "11/100 -> Validation Acc: 0.273 \tValidation Bleu: 0.442\n",
      "11/100 -> Validation Acc: 0.198 \tValidation Bleu: 0.693\n",
      "11/100 -> Validation Acc: 0.540 \tValidation Bleu: 0.895\n",
      "Saving model...\n",
      "11/100 -> Train loss: 0.031221371958963573 \tValidation loss: 0.03513013039270322 \tValidation Acc: 0.337 \tValidation Bleu: 0.677\n"
     ]
    },
    {
     "data": {
      "application/vnd.jupyter.widget-view+json": {
       "model_id": "24c79dee68284cde9db3a79a5d0684c6",
       "version_major": 2,
       "version_minor": 0
      },
      "text/plain": [
       "Training batches:   0%|          | 0/48 [00:00<?, ?it/s]"
      ]
     },
     "metadata": {},
     "output_type": "display_data"
    },
    {
     "data": {
      "application/vnd.jupyter.widget-view+json": {
       "model_id": "8c2a05ea35a24b12a31408389e75c841",
       "version_major": 2,
       "version_minor": 0
      },
      "text/plain": [
       "Validation batches:   0%|          | 0/153 [00:00<?, ?it/s]"
      ]
     },
     "metadata": {},
     "output_type": "display_data"
    },
    {
     "data": {
      "application/vnd.jupyter.widget-view+json": {
       "model_id": "cc35e6c857964622a0e58b49d62d680d",
       "version_major": 2,
       "version_minor": 0
      },
      "text/plain": [
       "Validation batches:   0%|          | 0/159 [00:00<?, ?it/s]"
      ]
     },
     "metadata": {},
     "output_type": "display_data"
    },
    {
     "data": {
      "application/vnd.jupyter.widget-view+json": {
       "model_id": "dd924b38077e4057bb5161551bee34f4",
       "version_major": 2,
       "version_minor": 0
      },
      "text/plain": [
       "Validation batches:   0%|          | 0/268 [00:00<?, ?it/s]"
      ]
     },
     "metadata": {},
     "output_type": "display_data"
    },
    {
     "name": "stdout",
     "output_type": "stream",
     "text": [
      "12/100 -> Validation Acc: 0.291 \tValidation Bleu: 0.457\n",
      "12/100 -> Validation Acc: 0.208 \tValidation Bleu: 0.690\n",
      "12/100 -> Validation Acc: 0.528 \tValidation Bleu: 0.896\n",
      "Saving model...\n",
      "12/100 -> Train loss: 0.027723512495867908 \tValidation loss: 0.036249504208571905 \tValidation Acc: 0.342 \tValidation Bleu: 0.681\n"
     ]
    },
    {
     "data": {
      "application/vnd.jupyter.widget-view+json": {
       "model_id": "485845d7482748d594622f685e13c959",
       "version_major": 2,
       "version_minor": 0
      },
      "text/plain": [
       "Training batches:   0%|          | 0/48 [00:00<?, ?it/s]"
      ]
     },
     "metadata": {},
     "output_type": "display_data"
    },
    {
     "data": {
      "application/vnd.jupyter.widget-view+json": {
       "model_id": "2f9cb5e345ce4b9787b1f62a946bb6bb",
       "version_major": 2,
       "version_minor": 0
      },
      "text/plain": [
       "Validation batches:   0%|          | 0/153 [00:00<?, ?it/s]"
      ]
     },
     "metadata": {},
     "output_type": "display_data"
    },
    {
     "data": {
      "application/vnd.jupyter.widget-view+json": {
       "model_id": "a4cc54369634432b8138701465b9b3e0",
       "version_major": 2,
       "version_minor": 0
      },
      "text/plain": [
       "Validation batches:   0%|          | 0/159 [00:00<?, ?it/s]"
      ]
     },
     "metadata": {},
     "output_type": "display_data"
    },
    {
     "data": {
      "application/vnd.jupyter.widget-view+json": {
       "model_id": "534cc3139a064e9ab629c9260ef9b05e",
       "version_major": 2,
       "version_minor": 0
      },
      "text/plain": [
       "Validation batches:   0%|          | 0/268 [00:00<?, ?it/s]"
      ]
     },
     "metadata": {},
     "output_type": "display_data"
    },
    {
     "name": "stdout",
     "output_type": "stream",
     "text": [
      "13/100 -> Validation Acc: 0.293 \tValidation Bleu: 0.456\n",
      "13/100 -> Validation Acc: 0.210 \tValidation Bleu: 0.704\n",
      "13/100 -> Validation Acc: 0.538 \tValidation Bleu: 0.897\n",
      "Saving model...\n",
      "13/100 -> Train loss: 0.027334815240465105 \tValidation loss: 0.0365947201083035 \tValidation Acc: 0.347 \tValidation Bleu: 0.685\n"
     ]
    },
    {
     "data": {
      "application/vnd.jupyter.widget-view+json": {
       "model_id": "713eca76b9864ccabb61ceb21283a60a",
       "version_major": 2,
       "version_minor": 0
      },
      "text/plain": [
       "Training batches:   0%|          | 0/48 [00:00<?, ?it/s]"
      ]
     },
     "metadata": {},
     "output_type": "display_data"
    },
    {
     "data": {
      "application/vnd.jupyter.widget-view+json": {
       "model_id": "6f122af5378d43449770145f73d0a4f3",
       "version_major": 2,
       "version_minor": 0
      },
      "text/plain": [
       "Validation batches:   0%|          | 0/153 [00:00<?, ?it/s]"
      ]
     },
     "metadata": {},
     "output_type": "display_data"
    },
    {
     "data": {
      "application/vnd.jupyter.widget-view+json": {
       "model_id": "2c7ab84f52a746b8aaf648ed1f089736",
       "version_major": 2,
       "version_minor": 0
      },
      "text/plain": [
       "Validation batches:   0%|          | 0/159 [00:00<?, ?it/s]"
      ]
     },
     "metadata": {},
     "output_type": "display_data"
    },
    {
     "data": {
      "application/vnd.jupyter.widget-view+json": {
       "model_id": "69d7718d258a4eca90f9e55a252c3755",
       "version_major": 2,
       "version_minor": 0
      },
      "text/plain": [
       "Validation batches:   0%|          | 0/268 [00:00<?, ?it/s]"
      ]
     },
     "metadata": {},
     "output_type": "display_data"
    },
    {
     "name": "stdout",
     "output_type": "stream",
     "text": [
      "14/100 -> Validation Acc: 0.287 \tValidation Bleu: 0.457\n",
      "14/100 -> Validation Acc: 0.215 \tValidation Bleu: 0.697\n",
      "14/100 -> Validation Acc: 0.541 \tValidation Bleu: 0.893\n",
      "Saving model...\n",
      "14/100 -> Train loss: 0.025598849053494632 \tValidation loss: 0.03707989630847227 \tValidation Acc: 0.348 \tValidation Bleu: 0.682\n"
     ]
    },
    {
     "data": {
      "application/vnd.jupyter.widget-view+json": {
       "model_id": "efe29e7fc86f4709974b90fc6f4b3355",
       "version_major": 2,
       "version_minor": 0
      },
      "text/plain": [
       "Training batches:   0%|          | 0/48 [00:00<?, ?it/s]"
      ]
     },
     "metadata": {},
     "output_type": "display_data"
    },
    {
     "data": {
      "application/vnd.jupyter.widget-view+json": {
       "model_id": "64471f16918043daac58ca6c6331c84b",
       "version_major": 2,
       "version_minor": 0
      },
      "text/plain": [
       "Validation batches:   0%|          | 0/153 [00:00<?, ?it/s]"
      ]
     },
     "metadata": {},
     "output_type": "display_data"
    },
    {
     "data": {
      "application/vnd.jupyter.widget-view+json": {
       "model_id": "c1577cd59f6045e4aec61b197ea6bf3b",
       "version_major": 2,
       "version_minor": 0
      },
      "text/plain": [
       "Validation batches:   0%|          | 0/159 [00:00<?, ?it/s]"
      ]
     },
     "metadata": {},
     "output_type": "display_data"
    },
    {
     "data": {
      "application/vnd.jupyter.widget-view+json": {
       "model_id": "976c1b04ee6c423ca3abe5f11b473053",
       "version_major": 2,
       "version_minor": 0
      },
      "text/plain": [
       "Validation batches:   0%|          | 0/268 [00:00<?, ?it/s]"
      ]
     },
     "metadata": {},
     "output_type": "display_data"
    },
    {
     "name": "stdout",
     "output_type": "stream",
     "text": [
      "15/100 -> Validation Acc: 0.295 \tValidation Bleu: 0.458\n",
      "15/100 -> Validation Acc: 0.217 \tValidation Bleu: 0.694\n",
      "15/100 -> Validation Acc: 0.542 \tValidation Bleu: 0.890\n",
      "Saving model...\n",
      "15/100 -> Train loss: 0.024422992932765435 \tValidation loss: 0.03822092952176806 \tValidation Acc: 0.351 \tValidation Bleu: 0.681\n"
     ]
    },
    {
     "data": {
      "application/vnd.jupyter.widget-view+json": {
       "model_id": "03df55e56f664d4793797cd45b0ccf23",
       "version_major": 2,
       "version_minor": 0
      },
      "text/plain": [
       "Training batches:   0%|          | 0/48 [00:00<?, ?it/s]"
      ]
     },
     "metadata": {},
     "output_type": "display_data"
    },
    {
     "data": {
      "application/vnd.jupyter.widget-view+json": {
       "model_id": "0821c788640b44ceb389ae41dcc1abf7",
       "version_major": 2,
       "version_minor": 0
      },
      "text/plain": [
       "Validation batches:   0%|          | 0/153 [00:00<?, ?it/s]"
      ]
     },
     "metadata": {},
     "output_type": "display_data"
    },
    {
     "data": {
      "application/vnd.jupyter.widget-view+json": {
       "model_id": "ef592f2cd20042d1bebc8c6585a69a41",
       "version_major": 2,
       "version_minor": 0
      },
      "text/plain": [
       "Validation batches:   0%|          | 0/159 [00:00<?, ?it/s]"
      ]
     },
     "metadata": {},
     "output_type": "display_data"
    },
    {
     "data": {
      "application/vnd.jupyter.widget-view+json": {
       "model_id": "57476ce1ea2a477b841d0b46f955426b",
       "version_major": 2,
       "version_minor": 0
      },
      "text/plain": [
       "Validation batches:   0%|          | 0/268 [00:00<?, ?it/s]"
      ]
     },
     "metadata": {},
     "output_type": "display_data"
    },
    {
     "name": "stdout",
     "output_type": "stream",
     "text": [
      "16/100 -> Validation Acc: 0.302 \tValidation Bleu: 0.464\n",
      "16/100 -> Validation Acc: 0.215 \tValidation Bleu: 0.699\n",
      "16/100 -> Validation Acc: 0.550 \tValidation Bleu: 0.901\n",
      "Saving model...\n",
      "16/100 -> Train loss: 0.02281761683601265 \tValidation loss: 0.04095962001919321 \tValidation Acc: 0.356 \tValidation Bleu: 0.688\n"
     ]
    },
    {
     "data": {
      "application/vnd.jupyter.widget-view+json": {
       "model_id": "1b03d15e3aa64ee3ab311e5d9e1f7d13",
       "version_major": 2,
       "version_minor": 0
      },
      "text/plain": [
       "Training batches:   0%|          | 0/48 [00:00<?, ?it/s]"
      ]
     },
     "metadata": {},
     "output_type": "display_data"
    },
    {
     "data": {
      "application/vnd.jupyter.widget-view+json": {
       "model_id": "d3a4d4d9856742068dae2392dd9a6307",
       "version_major": 2,
       "version_minor": 0
      },
      "text/plain": [
       "Validation batches:   0%|          | 0/153 [00:00<?, ?it/s]"
      ]
     },
     "metadata": {},
     "output_type": "display_data"
    },
    {
     "data": {
      "application/vnd.jupyter.widget-view+json": {
       "model_id": "90edec6664484d08bab0ebd5c92930d0",
       "version_major": 2,
       "version_minor": 0
      },
      "text/plain": [
       "Validation batches:   0%|          | 0/159 [00:00<?, ?it/s]"
      ]
     },
     "metadata": {},
     "output_type": "display_data"
    },
    {
     "data": {
      "application/vnd.jupyter.widget-view+json": {
       "model_id": "2e1bc90e9bf94fd08ed4b0e6d52565da",
       "version_major": 2,
       "version_minor": 0
      },
      "text/plain": [
       "Validation batches:   0%|          | 0/268 [00:00<?, ?it/s]"
      ]
     },
     "metadata": {},
     "output_type": "display_data"
    },
    {
     "name": "stdout",
     "output_type": "stream",
     "text": [
      "17/100 -> Validation Acc: 0.281 \tValidation Bleu: 0.450\n",
      "17/100 -> Validation Acc: 0.223 \tValidation Bleu: 0.713\n",
      "17/100 -> Validation Acc: 0.538 \tValidation Bleu: 0.904\n",
      "Saving model...\n",
      "17/100 -> Train loss: 0.021152956876903772 \tValidation loss: 0.04046632647784868 \tValidation Acc: 0.347 \tValidation Bleu: 0.689\n"
     ]
    },
    {
     "data": {
      "application/vnd.jupyter.widget-view+json": {
       "model_id": "ca00f35c9d484cb1ac84d6cd0b60605b",
       "version_major": 2,
       "version_minor": 0
      },
      "text/plain": [
       "Training batches:   0%|          | 0/48 [00:00<?, ?it/s]"
      ]
     },
     "metadata": {},
     "output_type": "display_data"
    },
    {
     "data": {
      "application/vnd.jupyter.widget-view+json": {
       "model_id": "7c02e20a2f91446893228186464e1d77",
       "version_major": 2,
       "version_minor": 0
      },
      "text/plain": [
       "Validation batches:   0%|          | 0/153 [00:00<?, ?it/s]"
      ]
     },
     "metadata": {},
     "output_type": "display_data"
    },
    {
     "data": {
      "application/vnd.jupyter.widget-view+json": {
       "model_id": "6875f66f09a549bb896bfafdbbd0d568",
       "version_major": 2,
       "version_minor": 0
      },
      "text/plain": [
       "Validation batches:   0%|          | 0/159 [00:00<?, ?it/s]"
      ]
     },
     "metadata": {},
     "output_type": "display_data"
    },
    {
     "data": {
      "application/vnd.jupyter.widget-view+json": {
       "model_id": "358cab1de49147d8bfc00a25106011c2",
       "version_major": 2,
       "version_minor": 0
      },
      "text/plain": [
       "Validation batches:   0%|          | 0/268 [00:00<?, ?it/s]"
      ]
     },
     "metadata": {},
     "output_type": "display_data"
    },
    {
     "name": "stdout",
     "output_type": "stream",
     "text": [
      "18/100 -> Validation Acc: 0.288 \tValidation Bleu: 0.458\n",
      "18/100 -> Validation Acc: 0.241 \tValidation Bleu: 0.725\n",
      "18/100 -> Validation Acc: 0.528 \tValidation Bleu: 0.900\n",
      "Saving model...\n",
      "18/100 -> Train loss: 0.019902685986987006 \tValidation loss: 0.0407011130415709 \tValidation Acc: 0.352 \tValidation Bleu: 0.694\n"
     ]
    },
    {
     "data": {
      "application/vnd.jupyter.widget-view+json": {
       "model_id": "f6f929ca386c4e2f8e73375dc21e55aa",
       "version_major": 2,
       "version_minor": 0
      },
      "text/plain": [
       "Training batches:   0%|          | 0/48 [00:00<?, ?it/s]"
      ]
     },
     "metadata": {},
     "output_type": "display_data"
    },
    {
     "data": {
      "application/vnd.jupyter.widget-view+json": {
       "model_id": "6e46275a56cd436ba40b4d14dc689bd9",
       "version_major": 2,
       "version_minor": 0
      },
      "text/plain": [
       "Validation batches:   0%|          | 0/153 [00:00<?, ?it/s]"
      ]
     },
     "metadata": {},
     "output_type": "display_data"
    },
    {
     "data": {
      "application/vnd.jupyter.widget-view+json": {
       "model_id": "723767cd2b7b4fdda17bd9a96a5f40ce",
       "version_major": 2,
       "version_minor": 0
      },
      "text/plain": [
       "Validation batches:   0%|          | 0/159 [00:00<?, ?it/s]"
      ]
     },
     "metadata": {},
     "output_type": "display_data"
    },
    {
     "data": {
      "application/vnd.jupyter.widget-view+json": {
       "model_id": "206eb3d15c4046c488bb53e2c1ed4ecd",
       "version_major": 2,
       "version_minor": 0
      },
      "text/plain": [
       "Validation batches:   0%|          | 0/268 [00:00<?, ?it/s]"
      ]
     },
     "metadata": {},
     "output_type": "display_data"
    },
    {
     "name": "stdout",
     "output_type": "stream",
     "text": [
      "19/100 -> Validation Acc: 0.301 \tValidation Bleu: 0.462\n",
      "19/100 -> Validation Acc: 0.228 \tValidation Bleu: 0.716\n",
      "19/100 -> Validation Acc: 0.553 \tValidation Bleu: 0.908\n",
      "Saving model...\n",
      "19/100 -> Train loss: 0.019368583549900602 \tValidation loss: 0.044071596497436145 \tValidation Acc: 0.360 \tValidation Bleu: 0.695\n"
     ]
    },
    {
     "data": {
      "application/vnd.jupyter.widget-view+json": {
       "model_id": "92330293f0884d08b7d35ac0537e5993",
       "version_major": 2,
       "version_minor": 0
      },
      "text/plain": [
       "Training batches:   0%|          | 0/48 [00:00<?, ?it/s]"
      ]
     },
     "metadata": {},
     "output_type": "display_data"
    },
    {
     "data": {
      "application/vnd.jupyter.widget-view+json": {
       "model_id": "90864c08f9b24fed9cb4b6724160ef8b",
       "version_major": 2,
       "version_minor": 0
      },
      "text/plain": [
       "Validation batches:   0%|          | 0/153 [00:00<?, ?it/s]"
      ]
     },
     "metadata": {},
     "output_type": "display_data"
    },
    {
     "data": {
      "application/vnd.jupyter.widget-view+json": {
       "model_id": "34b867bbd2224033ac5283fe7e760074",
       "version_major": 2,
       "version_minor": 0
      },
      "text/plain": [
       "Validation batches:   0%|          | 0/159 [00:00<?, ?it/s]"
      ]
     },
     "metadata": {},
     "output_type": "display_data"
    },
    {
     "data": {
      "application/vnd.jupyter.widget-view+json": {
       "model_id": "b5dde197cc2a4e9eb7a71f3ff0b80ce3",
       "version_major": 2,
       "version_minor": 0
      },
      "text/plain": [
       "Validation batches:   0%|          | 0/268 [00:00<?, ?it/s]"
      ]
     },
     "metadata": {},
     "output_type": "display_data"
    },
    {
     "name": "stdout",
     "output_type": "stream",
     "text": [
      "20/100 -> Validation Acc: 0.292 \tValidation Bleu: 0.459\n",
      "20/100 -> Validation Acc: 0.228 \tValidation Bleu: 0.699\n",
      "20/100 -> Validation Acc: 0.536 \tValidation Bleu: 0.897\n",
      "Saving model...\n",
      "20/100 -> Train loss: 0.018121032684575766 \tValidation loss: 0.042442650503216245 \tValidation Acc: 0.352 \tValidation Bleu: 0.685\n"
     ]
    },
    {
     "data": {
      "application/vnd.jupyter.widget-view+json": {
       "model_id": "9b74541d2cda45f3899f05d600d9cfbe",
       "version_major": 2,
       "version_minor": 0
      },
      "text/plain": [
       "Training batches:   0%|          | 0/48 [00:00<?, ?it/s]"
      ]
     },
     "metadata": {},
     "output_type": "display_data"
    },
    {
     "data": {
      "application/vnd.jupyter.widget-view+json": {
       "model_id": "94103131e4424926b36f3a4cd6c9016d",
       "version_major": 2,
       "version_minor": 0
      },
      "text/plain": [
       "Validation batches:   0%|          | 0/153 [00:00<?, ?it/s]"
      ]
     },
     "metadata": {},
     "output_type": "display_data"
    },
    {
     "data": {
      "application/vnd.jupyter.widget-view+json": {
       "model_id": "125f71334170498183b702d3563c55ef",
       "version_major": 2,
       "version_minor": 0
      },
      "text/plain": [
       "Validation batches:   0%|          | 0/159 [00:00<?, ?it/s]"
      ]
     },
     "metadata": {},
     "output_type": "display_data"
    },
    {
     "data": {
      "application/vnd.jupyter.widget-view+json": {
       "model_id": "bd838cf19d5648fbaa527b0c146c36d6",
       "version_major": 2,
       "version_minor": 0
      },
      "text/plain": [
       "Validation batches:   0%|          | 0/268 [00:00<?, ?it/s]"
      ]
     },
     "metadata": {},
     "output_type": "display_data"
    },
    {
     "name": "stdout",
     "output_type": "stream",
     "text": [
      "21/100 -> Validation Acc: 0.296 \tValidation Bleu: 0.454\n",
      "21/100 -> Validation Acc: 0.216 \tValidation Bleu: 0.695\n",
      "21/100 -> Validation Acc: 0.552 \tValidation Bleu: 0.908\n",
      "Saving model...\n",
      "21/100 -> Train loss: 0.01649641814098383 \tValidation loss: 0.04859397884015479 \tValidation Acc: 0.355 \tValidation Bleu: 0.686\n"
     ]
    },
    {
     "data": {
      "application/vnd.jupyter.widget-view+json": {
       "model_id": "7fdb9d73865143319d6442e9320d1c8a",
       "version_major": 2,
       "version_minor": 0
      },
      "text/plain": [
       "Training batches:   0%|          | 0/48 [00:00<?, ?it/s]"
      ]
     },
     "metadata": {},
     "output_type": "display_data"
    },
    {
     "data": {
      "application/vnd.jupyter.widget-view+json": {
       "model_id": "7ccc2183a6ad4977b3bbfa9047f9d49c",
       "version_major": 2,
       "version_minor": 0
      },
      "text/plain": [
       "Validation batches:   0%|          | 0/153 [00:00<?, ?it/s]"
      ]
     },
     "metadata": {},
     "output_type": "display_data"
    },
    {
     "data": {
      "application/vnd.jupyter.widget-view+json": {
       "model_id": "fe293bb22dd24b90971f52797550f6e6",
       "version_major": 2,
       "version_minor": 0
      },
      "text/plain": [
       "Validation batches:   0%|          | 0/159 [00:00<?, ?it/s]"
      ]
     },
     "metadata": {},
     "output_type": "display_data"
    },
    {
     "data": {
      "application/vnd.jupyter.widget-view+json": {
       "model_id": "5e9e56ec058f4280b50ec11ba98c7682",
       "version_major": 2,
       "version_minor": 0
      },
      "text/plain": [
       "Validation batches:   0%|          | 0/268 [00:00<?, ?it/s]"
      ]
     },
     "metadata": {},
     "output_type": "display_data"
    },
    {
     "name": "stdout",
     "output_type": "stream",
     "text": [
      "22/100 -> Validation Acc: 0.305 \tValidation Bleu: 0.470\n",
      "22/100 -> Validation Acc: 0.226 \tValidation Bleu: 0.719\n",
      "22/100 -> Validation Acc: 0.540 \tValidation Bleu: 0.909\n",
      "Saving model...\n",
      "22/100 -> Train loss: 0.015007802847928057 \tValidation loss: 0.04881291497357706 \tValidation Acc: 0.357 \tValidation Bleu: 0.699\n"
     ]
    }
   ],
   "source": [
    "# Training loop\n",
    "loss_log = []\n",
    "val_metrics_log = []\n",
    "best_val_acc = -1.0\n",
    "best_model_path = ''\n",
    "early_stopping = EarlyStopper(patience=3, min_delta=1e-3)\n",
    "\n",
    "# Initial validation\n",
    "val_metrics1 = trainer.validate_epoch(1)\n",
    "val_metrics2 = trainer.validate_epoch(2)\n",
    "val_metrics3 = trainer.validate_epoch(3)\n",
    "\n",
    "for val_metrics in [val_metrics1, val_metrics2, val_metrics3]:\n",
    "    val_loss = val_metrics['val_loss']\n",
    "    val_acc = val_metrics['val_acc']\n",
    "    val_bleu = val_metrics['bleu_score']\n",
    "    print(f\"{0}/{num_epochs} -> Validation Acc: {val_acc:.3f} \\tValidation Bleu: {val_bleu:.3f}\")\n",
    "\n",
    "for epoch in range(num_epochs):\n",
    "    train_loss = trainer.train_epoch()\n",
    "\n",
    "    val_metrics1 = trainer.validate_epoch(1)\n",
    "    val_metrics2 = trainer.validate_epoch(2)\n",
    "    val_metrics3 = trainer.validate_epoch(3)\n",
    "\n",
    "    avg_val_loss = 0.0\n",
    "    avg_val_acc = 0.0\n",
    "    avg_val_bleu = 0.0\n",
    "    for val_metrics in [val_metrics1, val_metrics2, val_metrics3]:\n",
    "        val_loss = val_metrics['val_loss']\n",
    "        val_acc = val_metrics['val_acc']\n",
    "        val_bleu = val_metrics['bleu_score']\n",
    "        avg_val_loss += val_loss\n",
    "        avg_val_acc += val_acc\n",
    "        avg_val_bleu += val_bleu\n",
    "        print(f\"{epoch+1}/{num_epochs} -> Validation Acc: {val_acc:.3f} \\tValidation Bleu: {val_bleu:.3f}\")\n",
    "\n",
    "    avg_val_loss /= 3\n",
    "    avg_val_acc /= 3\n",
    "    avg_val_bleu /= 3\n",
    "    \n",
    "    loss_log.append((train_loss, avg_val_loss))\n",
    "    val_metrics_log.append((avg_val_acc, avg_val_bleu))\n",
    "    \n",
    "    print('Saving model...')   \n",
    "    checkpoint_path = f'results/combined_dataset/t5_base_lora_epoch{epoch+1}.pth'\n",
    "    torch.save(lora.cgm_state_dict(model), checkpoint_path)\n",
    "\n",
    "    if avg_val_acc > best_val_acc:\n",
    "        best_val_acc = avg_val_acc\n",
    "        best_model_path = checkpoint_path\n",
    "    \n",
    "    print(f\"{epoch+1}/{num_epochs} -> Train loss: {train_loss} \\tValidation loss: {avg_val_loss} \" + \\\n",
    "          f\"\\tValidation Acc: {avg_val_acc:.3f} \\tValidation Bleu: {avg_val_bleu:.3f}\")\n",
    "\n",
    "    if early_stopping.early_stop(avg_val_acc):\n",
    "        break\n",
    "\n",
    "torch.save(torch.load(best_model_path), 'results/combined_dataset/t5_base_lora_best.pth')"
   ]
  },
  {
   "cell_type": "code",
   "execution_count": 16,
   "id": "ad4cdbec",
   "metadata": {
    "scrolled": true
   },
   "outputs": [
    {
     "name": "stdout",
     "output_type": "stream",
     "text": [
      "What do people aim to do at work? \n",
      " (A) complete job (B) learn from each other (C) kill animals (D) wear hats (E) talk to each other \n",
      "\n",
      "predicted_answer: complete job\n",
      "correct_answer: complete job\n"
     ]
    }
   ],
   "source": [
    "# Qualitative examples\n",
    "i = 1\n",
    "data = val_dataset.__getitem__(i)\n",
    "input_ids = data['input_ids'].to(device).unsqueeze(0)\n",
    "attention_mask = data['attention_mask'].to(device).unsqueeze(0)\n",
    "\n",
    "outputs = model.generate(input_ids=input_ids, attention_mask=attention_mask)\n",
    "predicted_answer = tokenizer.decode(outputs.flatten(), skip_special_tokens=True)\n",
    "\n",
    "print(data['question'], '\\n')\n",
    "print('predicted_answer:', predicted_answer)\n",
    "print('correct_answer:', data['ref_answer'])"
   ]
  },
  {
   "cell_type": "code",
   "execution_count": null,
   "id": "e8e70052-87e6-4534-a8c6-bb1d4d487bd1",
   "metadata": {},
   "outputs": [],
   "source": []
  }
 ],
 "metadata": {
  "kernelspec": {
   "display_name": "Python 3 (ipykernel)",
   "language": "python",
   "name": "python3"
  },
  "language_info": {
   "codemirror_mode": {
    "name": "ipython",
    "version": 3
   },
   "file_extension": ".py",
   "mimetype": "text/x-python",
   "name": "python",
   "nbconvert_exporter": "python",
   "pygments_lexer": "ipython3",
   "version": "3.11.5"
  }
 },
 "nbformat": 4,
 "nbformat_minor": 5
}
