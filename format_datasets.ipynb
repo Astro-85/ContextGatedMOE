{
 "cells": [
  {
   "cell_type": "code",
   "execution_count": null,
   "id": "c51d78df",
   "metadata": {},
   "outputs": [],
   "source": [
    "import pandas as pd\n",
    "import json"
   ]
  },
  {
   "cell_type": "code",
   "execution_count": null,
   "id": "5842da4f-91c7-4700-85ca-9d7c30515e7a",
   "metadata": {},
   "outputs": [],
   "source": [
    "'''\n",
    "Format all datasets into same style using annotation formatting of UnifiedQA MCQ\n",
    "'''"
   ]
  },
  {
   "cell_type": "code",
   "execution_count": null,
   "id": "2c879033",
   "metadata": {},
   "outputs": [],
   "source": [
    "# Medical QA\n",
    "train_file = 'datasets/MedQA/train.jsonl'\n",
    "val_file = 'datasets/MedQA/dev.jsonl'\n",
    "test_file = 'datasets/MedQA/test.jsonl'\n",
    "med_train_df = pd.read_json(path_or_buf=train_file, lines=True)\n",
    "med_val_df = pd.read_json(path_or_buf=val_file, lines=True)\n",
    "med_test_df = pd.read_json(path_or_buf=test_file, lines=True)"
   ]
  },
  {
   "cell_type": "code",
   "execution_count": null,
   "id": "a3235e87",
   "metadata": {},
   "outputs": [],
   "source": [
    "med_df = med_val_df\n",
    "med_dict = []\n",
    "char_to_num = {'A':'0', 'B':'1', 'C':'2', 'D':'3', 'E':'4'}\n",
    "for i in range(len(med_df)):\n",
    "    question = med_df.iloc[i]['question']\n",
    "    \n",
    "    options = med_df.iloc[i]['options']\n",
    "    answer = med_df.iloc[i]['answer']\n",
    "    answer_idx = med_df.iloc[i]['answer_idx']\n",
    "    \n",
    "    choices = []\n",
    "    for char in ['A', 'B', 'C', 'D', 'E']:\n",
    "        if char in options.keys():\n",
    "            choices.append(options[char])\n",
    "    label = char_to_num[answer_idx]\n",
    "    \n",
    "    \n",
    "    med_dict.append({'question':question, 'choices':choices, 'label':label})"
   ]
  },
  {
   "cell_type": "code",
   "execution_count": null,
   "id": "c566ef4f",
   "metadata": {},
   "outputs": [],
   "source": [
    "with open('datasets/MedQA/medqa_mcq_val.json', \"w\") as outfile:\n",
    "    json.dump(med_dict, outfile)"
   ]
  },
  {
   "cell_type": "code",
   "execution_count": null,
   "id": "5b34f166",
   "metadata": {},
   "outputs": [],
   "source": [
    "med_dict"
   ]
  },
  {
   "cell_type": "code",
   "execution_count": null,
   "id": "9e5f841f",
   "metadata": {},
   "outputs": [],
   "source": []
  },
  {
   "cell_type": "code",
   "execution_count": null,
   "id": "ea6bdbb5",
   "metadata": {
    "scrolled": true
   },
   "outputs": [],
   "source": [
    "# Format Science QA like medical QA\n",
    "science_train_df = pd.read_parquet('datasets/ScienceQA/train.parquet', engine='pyarrow')\n",
    "science_val_df = pd.read_parquet('datasets/ScienceQA/val.parquet', engine='pyarrow')"
   ]
  },
  {
   "cell_type": "code",
   "execution_count": null,
   "id": "b7277a1c",
   "metadata": {},
   "outputs": [],
   "source": [
    "science_df = science_val_df\n",
    "counter = 0\n",
    "science_dict = []\n",
    "num_to_char = {0:'A', 1:'B', 2:'C', 3:'D', 4:'E', 5:'F'}\n",
    "\n",
    "for i in range(len(science_df)):    \n",
    "    if science_df.iloc[i]['image']:\n",
    "        continue\n",
    "\n",
    "    question = science_df.iloc[i]['question']\n",
    "    choices = list(science_df.iloc[i]['choices'])\n",
    "    label = str(science_df.iloc[i]['answer'])\n",
    "    \n",
    "    science_dict.append({'question':question, 'choices':choices, 'label':label})\n",
    "    counter += 1\n",
    "\n",
    "# Remove questions that are image-based\n",
    "# Show fraction of questions kept\n",
    "#print(counter, counter/len(science_df))"
   ]
  },
  {
   "cell_type": "code",
   "execution_count": null,
   "id": "ab7ddcc3-713b-4275-92af-b1c1752f9601",
   "metadata": {},
   "outputs": [],
   "source": [
    "science_dict"
   ]
  },
  {
   "cell_type": "code",
   "execution_count": null,
   "id": "3238383b",
   "metadata": {},
   "outputs": [],
   "source": [
    "with open('datasets/ScienceQA/scienceqa_mcq_val.json', \"w\") as outfile:\n",
    "    json.dump(science_dict, outfile)"
   ]
  },
  {
   "cell_type": "code",
   "execution_count": null,
   "id": "c175ac43",
   "metadata": {},
   "outputs": [],
   "source": []
  },
  {
   "cell_type": "code",
   "execution_count": null,
   "id": "5d7e6a57",
   "metadata": {},
   "outputs": [],
   "source": [
    "# Format Commonsense QA like medical QA\n",
    "train_file = 'datasets/CommonsenseQA/train_rand_split.jsonl'\n",
    "val_file = 'datasets/CommonsenseQA/dev_rand_split.jsonl'\n",
    "com_train_df = pd.read_json(path_or_buf=train_file, lines=True)\n",
    "com_val_df = pd.read_json(path_or_buf=val_file, lines=True)"
   ]
  },
  {
   "cell_type": "code",
   "execution_count": null,
   "id": "a1fcec66",
   "metadata": {},
   "outputs": [],
   "source": [
    "com_df = com_val_df\n",
    "com_dict = []\n",
    "char_to_num = {'A':'0', 'B':'1', 'C':'2', 'D':'3', 'E':'4'}\n",
    "for i in range(len(com_df)):\n",
    "    question = com_df.iloc[i]['question']['stem']\n",
    "    answer_idx = com_df.iloc[i]['answerKey']\n",
    "    label = char_to_num[answer_idx]\n",
    "    \n",
    "    choices = []\n",
    "    for choice_idx, choice in enumerate(com_df.iloc[i]['question']['choices']):\n",
    "        choices.append(choice['text'])\n",
    "\n",
    "    com_dict.append({'question':question, 'choices':choices, 'label':label})"
   ]
  },
  {
   "cell_type": "code",
   "execution_count": null,
   "id": "698306d4",
   "metadata": {},
   "outputs": [],
   "source": [
    "with open('datasets/CommonsenseQA/commonsenseqa_mcq_val.json', \"w\") as outfile:\n",
    "    json.dump(com_dict, outfile)"
   ]
  },
  {
   "cell_type": "code",
   "execution_count": null,
   "id": "bfb9b4b6",
   "metadata": {},
   "outputs": [],
   "source": []
  }
 ],
 "metadata": {
  "kernelspec": {
   "display_name": "Python 3 (ipykernel)",
   "language": "python",
   "name": "python3"
  },
  "language_info": {
   "codemirror_mode": {
    "name": "ipython",
    "version": 3
   },
   "file_extension": ".py",
   "mimetype": "text/x-python",
   "name": "python",
   "nbconvert_exporter": "python",
   "pygments_lexer": "ipython3",
   "version": "3.11.5"
  }
 },
 "nbformat": 4,
 "nbformat_minor": 5
}
